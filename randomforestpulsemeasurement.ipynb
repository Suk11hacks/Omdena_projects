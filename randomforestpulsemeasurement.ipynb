{
  "cells": [
    {
      "cell_type": "markdown",
      "source": [
        "Loading metadata for future comparison"
      ],
      "metadata": {
        "id": "XSkOFKwINmX0"
      },
      "id": "XSkOFKwINmX0"
    },
    {
      "cell_type": "code",
      "source": [
        "import os\n",
        "import cv2\n",
        "import numpy as np\n",
        "import pandas as pd\n",
        "import mediapipe as mp\n",
        "from scipy.signal import find_peaks\n",
        "from sklearn.ensemble import RandomForestRegressor\n",
        "from sklearn.model_selection import train_test_split\n",
        "from sklearn.metrics import mean_absolute_error\n",
        "from google.colab import drive\n",
        "\n",
        "# Mount Google Drive\n",
        "drive.mount('/content/drive')\n",
        "\n",
        "# Load Metadata CSV from Google Drive\n",
        "metadata_path = \"/content/sample_data/df_video_metadata_demog.csv\"  # Replace with your actual path\n",
        "\n",
        "try:\n",
        "    metadata = pd.read_csv(metadata_path)\n",
        "    print(\"Metadata CSV loaded successfully:\")\n",
        "    print(metadata.head())  # Display first few rows\n",
        "except FileNotFoundError:\n",
        "    print(f\"Error: File not found at {metadata_path}\")\n",
        "except pd.errors.ParserError:\n",
        "    print(f\"Error: Could not parse the CSV file at {metadata_path}\")\n",
        "except Exception as e:\n",
        "    print(f\"An unexpected error occurred: {e}\")"
      ],
      "metadata": {
        "colab": {
          "base_uri": "https://localhost:8080/"
        },
        "id": "ME9mkNlMG0jN",
        "outputId": "67887014-5309-47a9-9e5b-7ec583df3909"
      },
      "id": "ME9mkNlMG0jN",
      "execution_count": 1,
      "outputs": [
        {
          "output_type": "stream",
          "name": "stdout",
          "text": [
            "Drive already mounted at /content/drive; to attempt to forcibly remount, call drive.mount(\"/content/drive\", force_remount=True).\n",
            "Metadata CSV loaded successfully:\n",
            "      id  spo2  temperature  bps  bpd  pulse  age  height  weight  gender  \\\n",
            "0  IN585   NaN          NaN  147   80     68   60     150    52.0  Female   \n",
            "1  IN602   NaN          NaN  138   77    101   52     146    50.0  Female   \n",
            "2  IN606   NaN          NaN  117   85     70   32     163    73.0  Female   \n",
            "3  IN614   NaN          NaN  132   84     90   48     163    70.0  Female   \n",
            "4  IN660   NaN          NaN  164   84     76   75     167    55.0    Male   \n",
            "\n",
            "   ...  category           Filename  \\\n",
            "0  ...         9  Copy of IN585.mp4   \n",
            "1  ...         8  Copy of IN602.mp4   \n",
            "2  ...         4  Copy of IN606.mp4   \n",
            "3  ...         7  Copy of IN614.mp4   \n",
            "4  ...        12  Copy of IN660.mp4   \n",
            "\n",
            "                                            Filepath Duration (s)  \\\n",
            "0  /content/drive/MyDrive/sonocare/V-BPE Dataset ...      120.234   \n",
            "1  /content/drive/MyDrive/sonocare/V-BPE Dataset ...      121.017   \n",
            "2  /content/drive/MyDrive/sonocare/V-BPE Dataset ...      123.017   \n",
            "3  /content/drive/MyDrive/sonocare/V-BPE Dataset ...      122.967   \n",
            "4  /content/drive/MyDrive/sonocare/V-BPE Dataset ...      120.734   \n",
            "\n",
            "  Size (bytes)  Bitrate (bps)                   Format   Size (MB) Size (GB)  \\\n",
            "0    202523444       13475286  mov,mp4,m4a,3gp,3g2,mj2  193.141407  0.188615   \n",
            "1    384817169       25438883  mov,mp4,m4a,3gp,3g2,mj2  366.990251  0.358389   \n",
            "2    591266093       38451016  mov,mp4,m4a,3gp,3g2,mj2  563.875287  0.550659   \n",
            "3    628003954       40856747  mov,mp4,m4a,3gp,3g2,mj2  598.911242  0.584874   \n",
            "4    220245120       14593742  mov,mp4,m4a,3gp,3g2,mj2  210.042114  0.205119   \n",
            "\n",
            "   Mbps (megabits por segundo)  \n",
            "0                    13.475286  \n",
            "1                    25.438883  \n",
            "2                    38.451016  \n",
            "3                    40.856747  \n",
            "4                    14.593742  \n",
            "\n",
            "[5 rows x 22 columns]\n"
          ]
        }
      ]
    },
    {
      "cell_type": "markdown",
      "source": [
        "Feature extraction using sample videos"
      ],
      "metadata": {
        "id": "YQvwuyC2NZKn"
      },
      "id": "YQvwuyC2NZKn"
    },
    {
      "cell_type": "code",
      "source": [
        "import os\n",
        "import cv2\n",
        "import numpy as np\n",
        "import pandas as pd\n",
        "import mediapipe as mp\n",
        "import time\n",
        "from concurrent.futures import ThreadPoolExecutor\n",
        "from scipy.signal import find_peaks\n",
        "from tqdm import tqdm  # Progress bar\n",
        "\n",
        "# ✅ Set Google Drive video folder path\n",
        "video_folder = \"/content/sample_data/testvideo\"\n",
        "\n",
        "if not os.path.exists(video_folder):\n",
        "    raise FileNotFoundError(f\"Video folder not found: {video_folder}\")\n",
        "\n",
        "video_files = [os.path.join(video_folder, f) for f in os.listdir(video_folder) if f.endswith('.mp4')]\n",
        "\n",
        "mp_face_mesh = mp.solutions.face_mesh\n",
        "\n",
        "# 🚀 Optimized Pulse Extraction Function\n",
        "def extract_pulse(video_path):\n",
        "    start_time = time.time()  # ⏳ Start timing\n",
        "\n",
        "    cap = cv2.VideoCapture(video_path)\n",
        "    heart_rates = []\n",
        "    frame_skip = 5  # Process every 5th frame\n",
        "\n",
        "    if not cap.isOpened():\n",
        "        print(f\"⚠️ Cannot open video file: {video_path}\")\n",
        "        return None\n",
        "\n",
        "    frame_count = 0\n",
        "    while cap.isOpened():\n",
        "        ret, frame = cap.read()\n",
        "        if not ret:\n",
        "            break\n",
        "\n",
        "        if frame_count % frame_skip == 0:\n",
        "            gray = cv2.cvtColor(frame, cv2.COLOR_BGR2GRAY)\n",
        "            h, w = gray.shape\n",
        "            forehead = gray[int(0.2*h):int(0.3*h), int(0.3*w):int(0.7*w)]\n",
        "            heart_rates.append(np.mean(forehead))  # Store mean intensity\n",
        "\n",
        "        frame_count += 1\n",
        "\n",
        "    cap.release()\n",
        "\n",
        "    # Ensure valid data\n",
        "    if len(heart_rates) == 0:\n",
        "        return None\n",
        "\n",
        "    peaks, _ = find_peaks(heart_rates, distance=30)\n",
        "    duration_seconds = len(heart_rates) / 30  # Assuming 30 FPS\n",
        "\n",
        "    if duration_seconds == 0:\n",
        "        return None\n",
        "\n",
        "    pulse_rate = (len(peaks) / duration_seconds) * 60  # Convert to BPM\n",
        "\n",
        "    elapsed_time = time.time() - start_time  # ⏳ Time taken\n",
        "    return {\"video_id\": os.path.basename(video_path).lower().replace(\"copy of \", \"\").replace(\".mp4\", \"\"),\n",
        "            \"pulse_rate\": pulse_rate,\n",
        "            \"processing_time_sec\": round(elapsed_time, 2)}\n",
        "\n",
        "# ✅ Process Videos in Parallel\n",
        "print(\"🚀 Extracting features from videos...\")\n",
        "start_time = time.time()\n",
        "with ThreadPoolExecutor(max_workers=4) as executor:\n",
        "    results = list(tqdm(executor.map(extract_pulse, video_files), total=len(video_files)))\n",
        "\n",
        "video_data = [res for res in results if res is not None]\n",
        "\n",
        "if not video_data:\n",
        "    raise ValueError(\"❌ No valid video data extracted. Check video files.\")\n",
        "\n",
        "# ✅ Save Video Features\n",
        "video_df = pd.DataFrame(video_data)\n",
        "video_features_path = \"/content/drive/My Drive/video_features.csv\"\n",
        "video_df.to_csv(video_features_path, index=False)\n",
        "print(f\"✅ Video features saved to {video_features_path}\")\n",
        "\n",
        "# ⏳ Total Processing Time\n",
        "total_time = time.time() - start_time\n",
        "print(f\"⏳ Total Video Processing Time: {round(total_time, 2)} sec\")\n",
        "\n",
        "# ✅ Print Sample Data\n",
        "print(video_df.head())\n"
      ],
      "metadata": {
        "colab": {
          "base_uri": "https://localhost:8080/"
        },
        "id": "QDdj8NicozIj",
        "outputId": "f1bf44a7-1e99-4ca0-e51e-60a6efd9a474"
      },
      "id": "QDdj8NicozIj",
      "execution_count": 13,
      "outputs": [
        {
          "output_type": "stream",
          "name": "stdout",
          "text": [
            "🚀 Extracting features from videos...\n"
          ]
        },
        {
          "output_type": "stream",
          "name": "stderr",
          "text": [
            "100%|██████████| 5/5 [08:39<00:00, 103.99s/it]"
          ]
        },
        {
          "output_type": "stream",
          "name": "stdout",
          "text": [
            "✅ Video features saved to /content/drive/My Drive/video_features.csv\n",
            "⏳ Total Video Processing Time: 520.0 sec\n",
            "  video_id  pulse_rate  processing_time_sec\n",
            "0    sl225   44.021739               490.19\n",
            "1    sl191   48.452221               519.98\n",
            "2    sl413   48.380427                75.38\n",
            "3    sl496   46.196150                59.40\n",
            "4    in901   42.265193                79.56\n"
          ]
        },
        {
          "output_type": "stream",
          "name": "stderr",
          "text": [
            "\n"
          ]
        }
      ]
    },
    {
      "cell_type": "markdown",
      "source": [
        "Predicting pulse rate using Random forest"
      ],
      "metadata": {
        "id": "q5uR6c0tNRYo"
      },
      "id": "q5uR6c0tNRYo"
    },
    {
      "cell_type": "code",
      "source": [
        "import os\n",
        "import cv2\n",
        "import numpy as np\n",
        "import pandas as pd\n",
        "import time\n",
        "import joblib  # ✅ For saving and loading the model\n",
        "from concurrent.futures import ProcessPoolExecutor\n",
        "from scipy.signal import find_peaks\n",
        "from tqdm import tqdm\n",
        "from sklearn.ensemble import RandomForestRegressor\n",
        "from sklearn.model_selection import train_test_split\n",
        "from sklearn.metrics import mean_absolute_error\n",
        "\n",
        "# ✅ Load Video Features for Training\n",
        "video_features_path = \"/content/drive/My Drive/video_features.csv\"\n",
        "df = pd.read_csv(video_features_path)\n",
        "\n",
        "if df.empty:\n",
        "    raise ValueError(\"❌ No data found in video features file!\")\n",
        "\n",
        "# ✅ Define Features & Target Variable\n",
        "features = [\"processing_time_sec\"]  # You can add more if needed\n",
        "target = \"pulse_rate\"\n",
        "\n",
        "X = df[features]\n",
        "y = df[target]\n",
        "\n",
        "# ✅ Train-Test Split\n",
        "X_train, X_test, y_train, y_test = train_test_split(X, y, test_size=0.2, random_state=42)\n",
        "\n",
        "# ✅ Train Random Forest Model\n",
        "print(\"🚀 Training Random Forest model...\")\n",
        "model = RandomForestRegressor(n_estimators=50, random_state=42)\n",
        "model.fit(X_train, y_train)\n",
        "\n",
        "# ✅ Predictions & Evaluation\n",
        "predictions = model.predict(X_test)\n",
        "mae = mean_absolute_error(y_test, predictions)\n",
        "\n",
        "print(f\"✅ MAE (Pulse Rate Prediction): {mae:.2f} BPM\")\n",
        "\n",
        "# ✅ Save the Model\n",
        "model_path = \"/content/drive/My Drive/pulse_rate_model.pkl\"\n",
        "joblib.dump(model, model_path)\n",
        "print(f\"✅ Model saved at: {model_path}\")\n",
        "\n",
        "# -------------------------------------------------------------------------------\n",
        "# **📌 FUNCTION TO PREDICT PULSE RATE FROM ANY NEW VIDEO**\n",
        "# -------------------------------------------------------------------------------\n",
        "\n",
        "def extract_features_from_video(video_path):\n",
        "    \"\"\"Extract features from a given video.\"\"\"\n",
        "    start_time = time.time()\n",
        "\n",
        "    cap = cv2.VideoCapture(video_path)\n",
        "    heart_rates = []\n",
        "    frame_skip = 10\n",
        "\n",
        "    if not cap.isOpened():\n",
        "        print(f\"⚠️ Cannot open video file: {video_path}\")\n",
        "        return None\n",
        "\n",
        "    frame_count = 0\n",
        "    while cap.isOpened():\n",
        "        ret, frame = cap.read()\n",
        "        if not ret:\n",
        "            break\n",
        "\n",
        "        if frame_count % frame_skip == 0:\n",
        "            frame = cv2.resize(frame, (640, 480))\n",
        "            gray = cv2.cvtColor(frame, cv2.COLOR_BGR2GRAY)\n",
        "\n",
        "            h, w = gray.shape\n",
        "            forehead = gray[int(0.2*h):int(0.3*h), int(0.3*w):int(0.7*w)]\n",
        "            heart_rates.append(np.mean(forehead))\n",
        "\n",
        "        frame_count += 1\n",
        "\n",
        "    cap.release()\n",
        "\n",
        "    if len(heart_rates) == 0:\n",
        "        return None\n",
        "\n",
        "    peaks, _ = find_peaks(heart_rates, distance=30)\n",
        "    duration_seconds = len(heart_rates) / 30\n",
        "\n",
        "    if duration_seconds == 0:\n",
        "        return None\n",
        "\n",
        "    pulse_rate = (len(peaks) / duration_seconds) * 60\n",
        "\n",
        "    elapsed_time = time.time() - start_time\n",
        "    return {\"video_id\": os.path.basename(video_path).replace(\".mp4\", \"\"),\n",
        "            \"processing_time_sec\": round(elapsed_time, 2)}\n",
        "\n",
        "def predict_pulse_rate(video_path):\n",
        "    \"\"\"Predict pulse rate from a new video using trained model.\"\"\"\n",
        "    model = joblib.load(model_path)\n",
        "    features = extract_features_from_video(video_path)\n",
        "\n",
        "    if features is None:\n",
        "        print(\"❌ Could not extract features from video.\")\n",
        "        return None\n",
        "\n",
        "    feature_df = pd.DataFrame([features])[[\"processing_time_sec\"]]\n",
        "    predicted_pulse = model.predict(feature_df)[0]\n",
        "\n",
        "    print(f\"🎯 Predicted Pulse Rate: {predicted_pulse:.2f} BPM\")\n",
        "    return predicted_pulse\n",
        "\n",
        "# -------------------------------------------------------------------------------\n",
        "# **📌 Example: Predict Pulse Rate from a New Video**\n",
        "# -------------------------------------------------------------------------------\n",
        "new_video = \"/content/sample_data/testvideo/Copy of SL133.mp4\"  # Change path to your test video\n",
        "predicted_pulse = predict_pulse_rate(new_video)\n"
      ],
      "metadata": {
        "colab": {
          "base_uri": "https://localhost:8080/"
        },
        "id": "hVuSNx-6CfxI",
        "outputId": "c952aeb1-ffdf-40e2-f60c-8be1ea69235a"
      },
      "id": "hVuSNx-6CfxI",
      "execution_count": 21,
      "outputs": [
        {
          "output_type": "stream",
          "name": "stdout",
          "text": [
            "🚀 Training Random Forest model...\n",
            "✅ MAE (Pulse Rate Prediction): 4.74 BPM\n",
            "✅ Model saved at: /content/drive/My Drive/pulse_rate_model.pkl\n",
            "🎯 Predicted Pulse Rate: 44.00 BPM\n"
          ]
        }
      ]
    },
    {
      "cell_type": "code",
      "source": [],
      "metadata": {
        "id": "4llA6_9-IQOp"
      },
      "id": "4llA6_9-IQOp",
      "execution_count": null,
      "outputs": []
    }
  ],
  "metadata": {
    "kernelspec": {
      "display_name": "Python 3 (ipykernel)",
      "language": "python",
      "name": "python3"
    },
    "language_info": {
      "codemirror_mode": {
        "name": "ipython",
        "version": 3
      },
      "file_extension": ".py",
      "mimetype": "text/x-python",
      "name": "python",
      "nbconvert_exporter": "python",
      "pygments_lexer": "ipython3",
      "version": "3.10.9"
    },
    "colab": {
      "provenance": []
    }
  },
  "nbformat": 4,
  "nbformat_minor": 5
}